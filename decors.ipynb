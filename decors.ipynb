{
 "cells": [
  {
   "cell_type": "code",
   "execution_count": null,
   "metadata": {},
   "outputs": [
    {
     "ename": "",
     "evalue": "",
     "output_type": "error",
     "traceback": [
      "\u001b[1;31mFailed to start the Kernel. \n",
      "\u001b[1;31mTraceback (most recent call last):\n",
      "\u001b[1;31m  File \"/usr/lib/python3.8/runpy.py\", line 194, in _run_module_as_main\n",
      "\u001b[1;31m    return _run_code(code, main_globals, None,\n",
      "\u001b[1;31m  File \"/usr/lib/python3.8/runpy.py\", line 87, in _run_code\n",
      "\u001b[1;31m    exec(code, run_globals)\n",
      "\u001b[1;31m  File \"/config/.local/lib/python3.8/site-packages/ipykernel_launcher.py\", line 15, in <module>\n",
      "\u001b[1;31m    from ipykernel import kernelapp as app\n",
      "\u001b[1;31m  File \"/config/.local/lib/python3.8/site-packages/ipykernel/kernelapp.py\", line 19, in <module>\n",
      "\u001b[1;31m    from IPython.core.application import (  # type:ignore[attr-defined]\n",
      "\u001b[1;31m  File \"/config/.local/lib/python3.8/site-packages/IPython/__init__.py\", line 30, in <module>\n",
      "\u001b[1;31m    raise ImportError(\n",
      "\u001b[1;31mImportError: \n",
      "\u001b[1;31mIPython 8.13+ supports Python 3.9 and above, following NEP 29.\n",
      "\u001b[1;31mIPython 8.0-8.12 supports Python 3.8 and above, following NEP 29.\n",
      "\u001b[1;31mWhen using Python 2.7, please install IPython 5.x LTS Long Term Support version.\n",
      "\u001b[1;31mPython 3.3 and 3.4 were supported up to IPython 6.x.\n",
      "\u001b[1;31mPython 3.5 was supported with IPython 7.0 to 7.9.\n",
      "\u001b[1;31mPython 3.6 was supported with IPython up to 7.16.\n",
      "\u001b[1;31mPython 3.7 was still supported with the 7.x branch.\n",
      "\u001b[1;31m\n",
      "\u001b[1;31mSee IPython `README.rst` file for more information:\n",
      "\u001b[1;31m\n",
      "\u001b[1;31m    https://github.com/ipython/ipython/blob/main/README.rst. \n",
      "\u001b[1;31mView Jupyter <a href='command:jupyter.viewOutput'>log</a> for further details."
     ]
    }
   ],
   "source": [
    "print(\"Hello\")"
   ]
  },
  {
   "cell_type": "code",
   "execution_count": 7,
   "metadata": {},
   "outputs": [],
   "source": [
    "def square(x):\n",
    "    return x*x\n",
    "\n",
    "f = square"
   ]
  },
  {
   "cell_type": "code",
   "execution_count": 9,
   "metadata": {},
   "outputs": [
    {
     "data": {
      "text/plain": [
       "36"
      ]
     },
     "execution_count": 9,
     "metadata": {},
     "output_type": "execute_result"
    }
   ],
   "source": [
    "f(6)"
   ]
  },
  {
   "cell_type": "code",
   "execution_count": 19,
   "metadata": {},
   "outputs": [],
   "source": [
    "def my_map(func,arg_list):\n",
    "    result = []\n",
    "    for i in arg_list:\n",
    "        result.append(func(i))\n",
    "    return result"
   ]
  },
  {
   "cell_type": "code",
   "execution_count": 21,
   "metadata": {},
   "outputs": [
    {
     "data": {
      "text/plain": [
       "[1, 4, 9, 16, 25]"
      ]
     },
     "execution_count": 21,
     "metadata": {},
     "output_type": "execute_result"
    }
   ],
   "source": [
    "squares = my_map(square,[1,2,3,4,5])\n",
    "squares"
   ]
  },
  {
   "cell_type": "code",
   "execution_count": 18,
   "metadata": {},
   "outputs": [
    {
     "name": "stdout",
     "output_type": "stream",
     "text": [
      "shashi\n"
     ]
    }
   ],
   "source": [
    "def outer_function(x):\n",
    "    message = x\n",
    "\n",
    "    def inner_function():\n",
    "        print(message)\n",
    "    return inner_function()\n",
    "\n",
    "outer_function(\"shashi\")"
   ]
  },
  {
   "cell_type": "code",
   "execution_count": null,
   "metadata": {},
   "outputs": [],
   "source": []
  }
 ],
 "metadata": {
  "kernelspec": {
   "display_name": "Python 3.8.10 64-bit",
   "language": "python",
   "name": "python3"
  },
  "language_info": {
   "codemirror_mode": {
    "name": "ipython",
    "version": 3
   },
   "file_extension": ".py",
   "mimetype": "text/x-python",
   "name": "python",
   "nbconvert_exporter": "python",
   "pygments_lexer": "ipython3",
   "version": "3.8.10"
  },
  "orig_nbformat": 4,
  "vscode": {
   "interpreter": {
    "hash": "e7370f93d1d0cde622a1f8e1c04877d8463912d04d973331ad4851f04de6915a"
   }
  }
 },
 "nbformat": 4,
 "nbformat_minor": 2
}
